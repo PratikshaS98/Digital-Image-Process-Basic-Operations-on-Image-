{
 "cells": [
  {
   "cell_type": "markdown",
   "metadata": {},
   "source": [
    "#### Importing libraries "
   ]
  },
  {
   "cell_type": "code",
   "execution_count": 1,
   "metadata": {},
   "outputs": [],
   "source": [
    "import cv2\n",
    "import numpy as np\n",
    "%matplotlib inline"
   ]
  },
  {
   "cell_type": "code",
   "execution_count": 2,
   "metadata": {},
   "outputs": [
    {
     "data": {
      "text/plain": [
       "-1"
      ]
     },
     "execution_count": 2,
     "metadata": {},
     "output_type": "execute_result"
    }
   ],
   "source": [
    "#Original Image\n",
    "\n",
    "img  = cv2.imread(img_path)\n",
    "cv2.imshow(\"Original Image\", img)\n",
    "cv2.waitKey(0)"
   ]
  },
  {
   "cell_type": "markdown",
   "metadata": {},
   "source": [
    "### a. convert image into grayscale image"
   ]
  },
  {
   "cell_type": "code",
   "execution_count": 3,
   "metadata": {},
   "outputs": [
    {
     "data": {
      "text/plain": [
       "-1"
      ]
     },
     "execution_count": 3,
     "metadata": {},
     "output_type": "execute_result"
    }
   ],
   "source": [
    "gray_scale_image = cv2.cvtColor(img, cv2.COLOR_BGR2GRAY)\n",
    "cv2.imshow(\"Grayscale Image\", gray_scale_image)\n",
    "cv2.waitKey(0)\n"
   ]
  },
  {
   "cell_type": "markdown",
   "metadata": {},
   "source": [
    "### b. Convert image in black and white (binary format) "
   ]
  },
  {
   "cell_type": "code",
   "execution_count": 4,
   "metadata": {},
   "outputs": [],
   "source": [
    "(thresh, blackAndWhiteImage) = cv2.threshold(gray_scale_image, 120, 255, cv2.THRESH_BINARY)\n",
    "cv2.imshow(\"Binary Image\", blackAndWhiteImage)\n",
    "timelaps = cv2.waitKey(0)\n"
   ]
  },
  {
   "cell_type": "markdown",
   "metadata": {},
   "source": [
    "###  c. Average filter on gray scale"
   ]
  },
  {
   "cell_type": "code",
   "execution_count": 5,
   "metadata": {},
   "outputs": [
    {
     "data": {
      "text/plain": [
       "-1"
      ]
     },
     "execution_count": 5,
     "metadata": {},
     "output_type": "execute_result"
    }
   ],
   "source": [
    "gray_scale_image1 = cv2.cvtColor(img, cv2.COLOR_BGR2GRAY)\n",
    "blur = cv2.blur(gray_scale_image1,(5,5))\n",
    "\n",
    "cv2.imshow(\"GrayScaleImage\", gray_scale_image1)\n",
    "cv2.imshow(\"Average_Filter\", blur)\n",
    "\n",
    "cv2.waitKey(0)\n"
   ]
  },
  {
   "cell_type": "markdown",
   "metadata": {},
   "source": [
    "###  d. Median filter on gray scale"
   ]
  },
  {
   "cell_type": "code",
   "execution_count": 6,
   "metadata": {},
   "outputs": [
    {
     "data": {
      "text/plain": [
       "-1"
      ]
     },
     "execution_count": 6,
     "metadata": {},
     "output_type": "execute_result"
    }
   ],
   "source": [
    "gray_scale_image1 = cv2.cvtColor(img, cv2.COLOR_BGR2GRAY)\n",
    "median_blur = cv2.medianBlur(gray_scale_image1,5)\n",
    "\n",
    "cv2.imshow(\"GrayScaleImage\", gray_scale_image1)\n",
    "cv2.imshow(\"Median_Filter\", median_blur)\n",
    "\n",
    "cv2.waitKey(0)"
   ]
  },
  {
   "cell_type": "markdown",
   "metadata": {},
   "source": [
    "### e. Max filter on gray scale"
   ]
  },
  {
   "cell_type": "code",
   "execution_count": 7,
   "metadata": {},
   "outputs": [],
   "source": [
    "def maximumBoxFilter(n, image):\n",
    "  img1 = cv2.imread(image)\n",
    "  gray_scale_image1 = cv2.cvtColor(img1, cv2.COLOR_BGR2GRAY)\n",
    "\n",
    "  # Creates the shape of the kernel\n",
    "  size = (n,n)\n",
    "  shape = cv2.MORPH_RECT\n",
    "  kernel = cv2.getStructuringElement(shape, size)\n",
    "\n",
    "  # Applies the maximum filter with kernel NxN\n",
    "  imgResult = cv2.dilate(gray_scale_image1, kernel)\n",
    "\n",
    "  # Shows the result\n",
    "  cv2.namedWindow('Result with n ' + str(n), cv2.WINDOW_NORMAL)\n",
    "  # Adjust the window length\n",
    "  cv2.imshow('Original Image', gray_scale_image1)\n",
    "  cv2.imshow('Result with n ' + str(n), imgResult)\n",
    "\n",
    "maximumBoxFilter(3, img_path)\n",
    "cv2.waitKey(0)\n",
    "cv2.destroyAllWindows()"
   ]
  },
  {
   "cell_type": "markdown",
   "metadata": {},
   "source": [
    "###  f. Mean filter on gray scale"
   ]
  },
  {
   "cell_type": "code",
   "execution_count": 8,
   "metadata": {},
   "outputs": [
    {
     "data": {
      "text/plain": [
       "-1"
      ]
     },
     "execution_count": 8,
     "metadata": {},
     "output_type": "execute_result"
    }
   ],
   "source": [
    "gray_scale_image1 = cv2.cvtColor(img, cv2.COLOR_BGR2GRAY)\n",
    "\n",
    "figure_size = 9 \n",
    "new_image = cv2.blur(gray_scale_image1,(figure_size, figure_size))\n",
    "\n",
    "cv2.imshow(\"GrayScaleImage\", gray_scale_image1)\n",
    "cv2.imshow(\"Mean_Filter\", new_image)\n",
    "\n",
    "cv2.waitKey(0)"
   ]
  },
  {
   "cell_type": "markdown",
   "metadata": {},
   "source": [
    "### g. Gaussian filter"
   ]
  },
  {
   "cell_type": "code",
   "execution_count": 9,
   "metadata": {},
   "outputs": [
    {
     "data": {
      "text/plain": [
       "-1"
      ]
     },
     "execution_count": 9,
     "metadata": {},
     "output_type": "execute_result"
    }
   ],
   "source": [
    "gray_scale_image1 = cv2.cvtColor(img, cv2.COLOR_BGR2GRAY)\n",
    "blur = cv2.GaussianBlur(gray_scale_image1,(5,5),0)\n",
    "\n",
    "cv2.imshow(\"GrayScaleImage\", gray_scale_image1)\n",
    "cv2.imshow(\"Gaussian_Filter\", blur)\n",
    "\n",
    "cv2.waitKey(0)"
   ]
  },
  {
   "cell_type": "markdown",
   "metadata": {},
   "source": [
    "### h. Logarithm transformation on gray scale"
   ]
  },
  {
   "cell_type": "code",
   "execution_count": 10,
   "metadata": {},
   "outputs": [
    {
     "name": "stderr",
     "output_type": "stream",
     "text": [
      "C:\\Users\\Pratiksha\\Anaconda3\\lib\\site-packages\\ipykernel_launcher.py:5: RuntimeWarning: divide by zero encountered in log\n",
      "  \"\"\"\n"
     ]
    },
    {
     "data": {
      "text/plain": [
       "-1"
      ]
     },
     "execution_count": 10,
     "metadata": {},
     "output_type": "execute_result"
    }
   ],
   "source": [
    "gray_scale_image = cv2.cvtColor(img, cv2.COLOR_BGR2GRAY)\n",
    "\n",
    "# Apply log transformation method \n",
    "c = 255 / np.log(1 + np.max(gray_scale_image)) \n",
    "log_image = c * (np.log(gray_scale_image + 1)) \n",
    "   \n",
    "# Specify the data type so that float value will be converted to int \n",
    "log_image = np.array(log_image, dtype = np.uint8) \n",
    "   \n",
    "# Display both images \n",
    "cv2.imshow(\"GrayScaleImage\", gray_scale_image)\n",
    "cv2.imshow(\"Logarithm transformation\", log_image)\n",
    "\n",
    "cv2.waitKey(0)"
   ]
  },
  {
   "cell_type": "markdown",
   "metadata": {},
   "source": [
    "### i. Power law transformation on gray scale"
   ]
  },
  {
   "cell_type": "code",
   "execution_count": 11,
   "metadata": {},
   "outputs": [
    {
     "data": {
      "text/plain": [
       "-1"
      ]
     },
     "execution_count": 11,
     "metadata": {},
     "output_type": "execute_result"
    }
   ],
   "source": [
    "gray_scale_image = cv2.cvtColor(img, cv2.COLOR_BGR2GRAY)  \n",
    "\n",
    "# Trying 3 gamma values. \n",
    "for gamma in [0.1, 0.5, 1.0]: \n",
    "      \n",
    "    # Apply gamma correction. \n",
    "    gamma_corrected = np.array(255*(gray_scale_image / 255) ** gamma, dtype = 'uint8') \n",
    "  \n",
    "    cv2.imshow('gamma_transformed'+str(gamma)+'.jpg', gamma_corrected) \n",
    "\n",
    "cv2.waitKey(0)\n"
   ]
  },
  {
   "cell_type": "code",
   "execution_count": null,
   "metadata": {},
   "outputs": [],
   "source": []
  }
 ],
 "metadata": {
  "kernelspec": {
   "display_name": "Python 3",
   "language": "python",
   "name": "python3"
  },
  "language_info": {
   "codemirror_mode": {
    "name": "ipython",
    "version": 3
   },
   "file_extension": ".py",
   "mimetype": "text/x-python",
   "name": "python",
   "nbconvert_exporter": "python",
   "pygments_lexer": "ipython3",
   "version": "3.7.4"
  }
 },
 "nbformat": 4,
 "nbformat_minor": 2
}
